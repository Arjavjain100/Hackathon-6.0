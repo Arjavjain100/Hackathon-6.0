{
 "cells": [
  {
   "cell_type": "code",
   "execution_count": 1,
   "id": "06e2997c",
   "metadata": {
    "_cell_guid": "b1076dfc-b9ad-4769-8c92-a6c4dae69d19",
    "_uuid": "8f2839f25d086af736a60e9eeb907d3b93b6e0e5",
    "execution": {
     "iopub.execute_input": "2022-02-11T14:59:30.986701Z",
     "iopub.status.busy": "2022-02-11T14:59:30.984916Z",
     "iopub.status.idle": "2022-02-11T14:59:31.003879Z",
     "shell.execute_reply": "2022-02-11T14:59:31.004699Z",
     "shell.execute_reply.started": "2022-02-11T14:10:12.579912Z"
    },
    "papermill": {
     "duration": 0.037424,
     "end_time": "2022-02-11T14:59:31.005089",
     "exception": false,
     "start_time": "2022-02-11T14:59:30.967665",
     "status": "completed"
    },
    "tags": []
   },
   "outputs": [
    {
     "name": "stdout",
     "output_type": "stream",
     "text": [
      "/kaggle/input/earthquake/all_month.csv\n",
      "['earthquake']\n"
     ]
    }
   ],
   "source": [
    "import numpy as np\n",
    "import pandas as pd \n",
    "\n",
    "import os\n",
    "for dirname, _, filenames in os.walk('/kaggle/input'):\n",
    "    for filename in filenames:\n",
    "        print(os.path.join(dirname, filename))\n",
    "print(os.listdir(\"../input\"))\n"
   ]
  },
  {
   "cell_type": "code",
   "execution_count": 2,
   "id": "d0af4e1c",
   "metadata": {
    "execution": {
     "iopub.execute_input": "2022-02-11T14:59:31.033193Z",
     "iopub.status.busy": "2022-02-11T14:59:31.032507Z",
     "iopub.status.idle": "2022-02-11T14:59:31.166032Z",
     "shell.execute_reply": "2022-02-11T14:59:31.165470Z",
     "shell.execute_reply.started": "2022-02-11T14:10:12.596240Z"
    },
    "papermill": {
     "duration": 0.147893,
     "end_time": "2022-02-11T14:59:31.166189",
     "exception": false,
     "start_time": "2022-02-11T14:59:31.018296",
     "status": "completed"
    },
    "tags": []
   },
   "outputs": [
    {
     "data": {
      "text/html": [
       "<div>\n",
       "<style scoped>\n",
       "    .dataframe tbody tr th:only-of-type {\n",
       "        vertical-align: middle;\n",
       "    }\n",
       "\n",
       "    .dataframe tbody tr th {\n",
       "        vertical-align: top;\n",
       "    }\n",
       "\n",
       "    .dataframe thead th {\n",
       "        text-align: right;\n",
       "    }\n",
       "</style>\n",
       "<table border=\"1\" class=\"dataframe\">\n",
       "  <thead>\n",
       "    <tr style=\"text-align: right;\">\n",
       "      <th></th>\n",
       "      <th>time</th>\n",
       "      <th>latitude</th>\n",
       "      <th>longitude</th>\n",
       "      <th>depth</th>\n",
       "      <th>mag</th>\n",
       "      <th>magType</th>\n",
       "      <th>nst</th>\n",
       "      <th>gap</th>\n",
       "      <th>dmin</th>\n",
       "      <th>rms</th>\n",
       "      <th>...</th>\n",
       "      <th>updated</th>\n",
       "      <th>place</th>\n",
       "      <th>type</th>\n",
       "      <th>horizontalError</th>\n",
       "      <th>depthError</th>\n",
       "      <th>magError</th>\n",
       "      <th>magNst</th>\n",
       "      <th>status</th>\n",
       "      <th>locationSource</th>\n",
       "      <th>magSource</th>\n",
       "    </tr>\n",
       "  </thead>\n",
       "  <tbody>\n",
       "    <tr>\n",
       "      <th>0</th>\n",
       "      <td>2022-02-04T02:52:38.150Z</td>\n",
       "      <td>38.832832</td>\n",
       "      <td>-122.819336</td>\n",
       "      <td>1.800000</td>\n",
       "      <td>0.85</td>\n",
       "      <td>md</td>\n",
       "      <td>6.0</td>\n",
       "      <td>103.00</td>\n",
       "      <td>0.01188</td>\n",
       "      <td>0.0000</td>\n",
       "      <td>...</td>\n",
       "      <td>2022-02-04T02:54:15.830Z</td>\n",
       "      <td>8km NW of The Geysers, CA</td>\n",
       "      <td>earthquake</td>\n",
       "      <td>0.53</td>\n",
       "      <td>1.71</td>\n",
       "      <td>NaN</td>\n",
       "      <td>1.0</td>\n",
       "      <td>automatic</td>\n",
       "      <td>nc</td>\n",
       "      <td>nc</td>\n",
       "    </tr>\n",
       "    <tr>\n",
       "      <th>1</th>\n",
       "      <td>2022-02-04T02:50:47.970Z</td>\n",
       "      <td>32.718167</td>\n",
       "      <td>-117.160167</td>\n",
       "      <td>16.360000</td>\n",
       "      <td>0.99</td>\n",
       "      <td>ml</td>\n",
       "      <td>8.0</td>\n",
       "      <td>241.00</td>\n",
       "      <td>0.18440</td>\n",
       "      <td>0.0900</td>\n",
       "      <td>...</td>\n",
       "      <td>2022-02-04T02:54:22.814Z</td>\n",
       "      <td>4km NNE of Coronado, CA</td>\n",
       "      <td>earthquake</td>\n",
       "      <td>0.56</td>\n",
       "      <td>1.02</td>\n",
       "      <td>0.213000</td>\n",
       "      <td>4.0</td>\n",
       "      <td>automatic</td>\n",
       "      <td>ci</td>\n",
       "      <td>ci</td>\n",
       "    </tr>\n",
       "    <tr>\n",
       "      <th>2</th>\n",
       "      <td>2022-02-04T02:44:23.729Z</td>\n",
       "      <td>36.905100</td>\n",
       "      <td>-117.367100</td>\n",
       "      <td>9.400000</td>\n",
       "      <td>1.50</td>\n",
       "      <td>ml</td>\n",
       "      <td>14.0</td>\n",
       "      <td>184.66</td>\n",
       "      <td>0.09100</td>\n",
       "      <td>0.3503</td>\n",
       "      <td>...</td>\n",
       "      <td>2022-02-04T02:47:57.431Z</td>\n",
       "      <td>54 km W of Beatty, Nevada</td>\n",
       "      <td>earthquake</td>\n",
       "      <td>NaN</td>\n",
       "      <td>0.50</td>\n",
       "      <td>0.290000</td>\n",
       "      <td>9.0</td>\n",
       "      <td>automatic</td>\n",
       "      <td>nn</td>\n",
       "      <td>nn</td>\n",
       "    </tr>\n",
       "    <tr>\n",
       "      <th>3</th>\n",
       "      <td>2022-02-04T02:32:05.480Z</td>\n",
       "      <td>19.483167</td>\n",
       "      <td>-155.644667</td>\n",
       "      <td>2.910000</td>\n",
       "      <td>0.81</td>\n",
       "      <td>md</td>\n",
       "      <td>15.0</td>\n",
       "      <td>68.00</td>\n",
       "      <td>NaN</td>\n",
       "      <td>0.1200</td>\n",
       "      <td>...</td>\n",
       "      <td>2022-02-04T02:56:11.570Z</td>\n",
       "      <td>23 km E of Honaunau-Napoopoo, Hawaii</td>\n",
       "      <td>earthquake</td>\n",
       "      <td>0.33</td>\n",
       "      <td>0.88</td>\n",
       "      <td>0.264057</td>\n",
       "      <td>7.0</td>\n",
       "      <td>reviewed</td>\n",
       "      <td>hv</td>\n",
       "      <td>hv</td>\n",
       "    </tr>\n",
       "    <tr>\n",
       "      <th>4</th>\n",
       "      <td>2022-02-04T02:22:41.920Z</td>\n",
       "      <td>19.198999</td>\n",
       "      <td>-155.436661</td>\n",
       "      <td>34.470001</td>\n",
       "      <td>2.00</td>\n",
       "      <td>ml</td>\n",
       "      <td>49.0</td>\n",
       "      <td>137.00</td>\n",
       "      <td>NaN</td>\n",
       "      <td>0.1100</td>\n",
       "      <td>...</td>\n",
       "      <td>2022-02-04T02:28:13.650Z</td>\n",
       "      <td>4 km E of Pāhala, Hawaii</td>\n",
       "      <td>earthquake</td>\n",
       "      <td>0.46</td>\n",
       "      <td>0.61</td>\n",
       "      <td>4.090000</td>\n",
       "      <td>11.0</td>\n",
       "      <td>automatic</td>\n",
       "      <td>hv</td>\n",
       "      <td>hv</td>\n",
       "    </tr>\n",
       "  </tbody>\n",
       "</table>\n",
       "<p>5 rows × 22 columns</p>\n",
       "</div>"
      ],
      "text/plain": [
       "                       time   latitude   longitude      depth   mag magType  \\\n",
       "0  2022-02-04T02:52:38.150Z  38.832832 -122.819336   1.800000  0.85      md   \n",
       "1  2022-02-04T02:50:47.970Z  32.718167 -117.160167  16.360000  0.99      ml   \n",
       "2  2022-02-04T02:44:23.729Z  36.905100 -117.367100   9.400000  1.50      ml   \n",
       "3  2022-02-04T02:32:05.480Z  19.483167 -155.644667   2.910000  0.81      md   \n",
       "4  2022-02-04T02:22:41.920Z  19.198999 -155.436661  34.470001  2.00      ml   \n",
       "\n",
       "    nst     gap     dmin     rms  ...                   updated  \\\n",
       "0   6.0  103.00  0.01188  0.0000  ...  2022-02-04T02:54:15.830Z   \n",
       "1   8.0  241.00  0.18440  0.0900  ...  2022-02-04T02:54:22.814Z   \n",
       "2  14.0  184.66  0.09100  0.3503  ...  2022-02-04T02:47:57.431Z   \n",
       "3  15.0   68.00      NaN  0.1200  ...  2022-02-04T02:56:11.570Z   \n",
       "4  49.0  137.00      NaN  0.1100  ...  2022-02-04T02:28:13.650Z   \n",
       "\n",
       "                                  place        type horizontalError  \\\n",
       "0             8km NW of The Geysers, CA  earthquake            0.53   \n",
       "1               4km NNE of Coronado, CA  earthquake            0.56   \n",
       "2             54 km W of Beatty, Nevada  earthquake             NaN   \n",
       "3  23 km E of Honaunau-Napoopoo, Hawaii  earthquake            0.33   \n",
       "4              4 km E of Pāhala, Hawaii  earthquake            0.46   \n",
       "\n",
       "  depthError  magError  magNst     status  locationSource magSource  \n",
       "0       1.71       NaN     1.0  automatic              nc        nc  \n",
       "1       1.02  0.213000     4.0  automatic              ci        ci  \n",
       "2       0.50  0.290000     9.0  automatic              nn        nn  \n",
       "3       0.88  0.264057     7.0   reviewed              hv        hv  \n",
       "4       0.61  4.090000    11.0  automatic              hv        hv  \n",
       "\n",
       "[5 rows x 22 columns]"
      ]
     },
     "execution_count": 2,
     "metadata": {},
     "output_type": "execute_result"
    }
   ],
   "source": [
    "data = pd.read_csv(\"/kaggle/input/earthquake/all_month.csv\")\n",
    "data.head()"
   ]
  },
  {
   "cell_type": "code",
   "execution_count": 3,
   "id": "75ca2cf5",
   "metadata": {
    "execution": {
     "iopub.execute_input": "2022-02-11T14:59:31.199776Z",
     "iopub.status.busy": "2022-02-11T14:59:31.199038Z",
     "iopub.status.idle": "2022-02-11T14:59:31.210492Z",
     "shell.execute_reply": "2022-02-11T14:59:31.210964Z",
     "shell.execute_reply.started": "2022-02-11T14:10:12.692272Z"
    },
    "papermill": {
     "duration": 0.032506,
     "end_time": "2022-02-11T14:59:31.211185",
     "exception": false,
     "start_time": "2022-02-11T14:59:31.178679",
     "status": "completed"
    },
    "tags": []
   },
   "outputs": [
    {
     "data": {
      "text/html": [
       "<div>\n",
       "<style scoped>\n",
       "    .dataframe tbody tr th:only-of-type {\n",
       "        vertical-align: middle;\n",
       "    }\n",
       "\n",
       "    .dataframe tbody tr th {\n",
       "        vertical-align: top;\n",
       "    }\n",
       "\n",
       "    .dataframe thead th {\n",
       "        text-align: right;\n",
       "    }\n",
       "</style>\n",
       "<table border=\"1\" class=\"dataframe\">\n",
       "  <thead>\n",
       "    <tr style=\"text-align: right;\">\n",
       "      <th></th>\n",
       "      <th>time</th>\n",
       "      <th>latitude</th>\n",
       "      <th>longitude</th>\n",
       "      <th>depth</th>\n",
       "      <th>mag</th>\n",
       "    </tr>\n",
       "  </thead>\n",
       "  <tbody>\n",
       "    <tr>\n",
       "      <th>0</th>\n",
       "      <td>2022-02-04T02:52:38.150Z</td>\n",
       "      <td>38.832832</td>\n",
       "      <td>-122.819336</td>\n",
       "      <td>1.800000</td>\n",
       "      <td>0.85</td>\n",
       "    </tr>\n",
       "    <tr>\n",
       "      <th>1</th>\n",
       "      <td>2022-02-04T02:50:47.970Z</td>\n",
       "      <td>32.718167</td>\n",
       "      <td>-117.160167</td>\n",
       "      <td>16.360000</td>\n",
       "      <td>0.99</td>\n",
       "    </tr>\n",
       "    <tr>\n",
       "      <th>2</th>\n",
       "      <td>2022-02-04T02:44:23.729Z</td>\n",
       "      <td>36.905100</td>\n",
       "      <td>-117.367100</td>\n",
       "      <td>9.400000</td>\n",
       "      <td>1.50</td>\n",
       "    </tr>\n",
       "    <tr>\n",
       "      <th>3</th>\n",
       "      <td>2022-02-04T02:32:05.480Z</td>\n",
       "      <td>19.483167</td>\n",
       "      <td>-155.644667</td>\n",
       "      <td>2.910000</td>\n",
       "      <td>0.81</td>\n",
       "    </tr>\n",
       "    <tr>\n",
       "      <th>4</th>\n",
       "      <td>2022-02-04T02:22:41.920Z</td>\n",
       "      <td>19.198999</td>\n",
       "      <td>-155.436661</td>\n",
       "      <td>34.470001</td>\n",
       "      <td>2.00</td>\n",
       "    </tr>\n",
       "  </tbody>\n",
       "</table>\n",
       "</div>"
      ],
      "text/plain": [
       "                       time   latitude   longitude      depth   mag\n",
       "0  2022-02-04T02:52:38.150Z  38.832832 -122.819336   1.800000  0.85\n",
       "1  2022-02-04T02:50:47.970Z  32.718167 -117.160167  16.360000  0.99\n",
       "2  2022-02-04T02:44:23.729Z  36.905100 -117.367100   9.400000  1.50\n",
       "3  2022-02-04T02:32:05.480Z  19.483167 -155.644667   2.910000  0.81\n",
       "4  2022-02-04T02:22:41.920Z  19.198999 -155.436661  34.470001  2.00"
      ]
     },
     "execution_count": 3,
     "metadata": {},
     "output_type": "execute_result"
    }
   ],
   "source": [
    "data = data[[ 'time', 'latitude', 'longitude', 'depth', 'mag']]\n",
    "data.head()"
   ]
  },
  {
   "cell_type": "code",
   "execution_count": 4,
   "id": "c246a9af",
   "metadata": {
    "execution": {
     "iopub.execute_input": "2022-02-11T14:59:31.249671Z",
     "iopub.status.busy": "2022-02-11T14:59:31.248982Z",
     "iopub.status.idle": "2022-02-11T14:59:31.435501Z",
     "shell.execute_reply": "2022-02-11T14:59:31.436050Z",
     "shell.execute_reply.started": "2022-02-11T14:41:02.194380Z"
    },
    "papermill": {
     "duration": 0.212015,
     "end_time": "2022-02-11T14:59:31.436248",
     "exception": false,
     "start_time": "2022-02-11T14:59:31.224233",
     "status": "completed"
    },
    "tags": []
   },
   "outputs": [],
   "source": [
    "import datetime\n",
    "\n",
    "timestamp_arr = []\n",
    "for d in data[\"time\"]:\n",
    "    date_format = datetime.datetime.strptime(d,\"%Y-%m-%dT%H:%M:%S.%fZ\")\n",
    "    try:\n",
    "        timestamp_arr.append(datetime.datetime.timestamp(date_format))\n",
    "    except ValueError:\n",
    "        timestamp.append('ValueError')"
   ]
  },
  {
   "cell_type": "code",
   "execution_count": 5,
   "id": "db80d00d",
   "metadata": {
    "execution": {
     "iopub.execute_input": "2022-02-11T14:59:31.473114Z",
     "iopub.status.busy": "2022-02-11T14:59:31.472405Z",
     "iopub.status.idle": "2022-02-11T14:59:31.475367Z",
     "shell.execute_reply": "2022-02-11T14:59:31.475848Z",
     "shell.execute_reply.started": "2022-02-11T14:43:56.409143Z"
    },
    "papermill": {
     "duration": 0.0269,
     "end_time": "2022-02-11T14:59:31.476012",
     "exception": false,
     "start_time": "2022-02-11T14:59:31.449112",
     "status": "completed"
    },
    "tags": []
   },
   "outputs": [
    {
     "data": {
      "text/plain": [
       "0    1.643943e+09\n",
       "1    1.643943e+09\n",
       "2    1.643943e+09\n",
       "3    1.643942e+09\n",
       "4    1.643941e+09\n",
       "Name: timestamp, dtype: float64"
      ]
     },
     "execution_count": 5,
     "metadata": {},
     "output_type": "execute_result"
    }
   ],
   "source": [
    "timestamp = pd.Series(timestamp_arr)\n",
    "data['timestamp'] = timestamp.values\n",
    "data[\"timestamp\"].head()"
   ]
  },
  {
   "cell_type": "code",
   "execution_count": 6,
   "id": "239d2595",
   "metadata": {
    "execution": {
     "iopub.execute_input": "2022-02-11T14:59:31.509496Z",
     "iopub.status.busy": "2022-02-11T14:59:31.508412Z",
     "iopub.status.idle": "2022-02-11T14:59:31.522708Z",
     "shell.execute_reply": "2022-02-11T14:59:31.523286Z",
     "shell.execute_reply.started": "2022-02-11T14:57:24.310352Z"
    },
    "papermill": {
     "duration": 0.034216,
     "end_time": "2022-02-11T14:59:31.523452",
     "exception": false,
     "start_time": "2022-02-11T14:59:31.489236",
     "status": "completed"
    },
    "tags": []
   },
   "outputs": [
    {
     "data": {
      "text/html": [
       "<div>\n",
       "<style scoped>\n",
       "    .dataframe tbody tr th:only-of-type {\n",
       "        vertical-align: middle;\n",
       "    }\n",
       "\n",
       "    .dataframe tbody tr th {\n",
       "        vertical-align: top;\n",
       "    }\n",
       "\n",
       "    .dataframe thead th {\n",
       "        text-align: right;\n",
       "    }\n",
       "</style>\n",
       "<table border=\"1\" class=\"dataframe\">\n",
       "  <thead>\n",
       "    <tr style=\"text-align: right;\">\n",
       "      <th></th>\n",
       "      <th>latitude</th>\n",
       "      <th>longitude</th>\n",
       "      <th>depth</th>\n",
       "      <th>mag</th>\n",
       "      <th>timestamp</th>\n",
       "    </tr>\n",
       "  </thead>\n",
       "  <tbody>\n",
       "    <tr>\n",
       "      <th>0</th>\n",
       "      <td>38.832832</td>\n",
       "      <td>-122.819336</td>\n",
       "      <td>1.800000</td>\n",
       "      <td>0.85</td>\n",
       "      <td>1.643943e+09</td>\n",
       "    </tr>\n",
       "    <tr>\n",
       "      <th>1</th>\n",
       "      <td>32.718167</td>\n",
       "      <td>-117.160167</td>\n",
       "      <td>16.360000</td>\n",
       "      <td>0.99</td>\n",
       "      <td>1.643943e+09</td>\n",
       "    </tr>\n",
       "    <tr>\n",
       "      <th>2</th>\n",
       "      <td>36.905100</td>\n",
       "      <td>-117.367100</td>\n",
       "      <td>9.400000</td>\n",
       "      <td>1.50</td>\n",
       "      <td>1.643943e+09</td>\n",
       "    </tr>\n",
       "    <tr>\n",
       "      <th>3</th>\n",
       "      <td>19.483167</td>\n",
       "      <td>-155.644667</td>\n",
       "      <td>2.910000</td>\n",
       "      <td>0.81</td>\n",
       "      <td>1.643942e+09</td>\n",
       "    </tr>\n",
       "    <tr>\n",
       "      <th>4</th>\n",
       "      <td>19.198999</td>\n",
       "      <td>-155.436661</td>\n",
       "      <td>34.470001</td>\n",
       "      <td>2.00</td>\n",
       "      <td>1.643941e+09</td>\n",
       "    </tr>\n",
       "  </tbody>\n",
       "</table>\n",
       "</div>"
      ],
      "text/plain": [
       "    latitude   longitude      depth   mag     timestamp\n",
       "0  38.832832 -122.819336   1.800000  0.85  1.643943e+09\n",
       "1  32.718167 -117.160167  16.360000  0.99  1.643943e+09\n",
       "2  36.905100 -117.367100   9.400000  1.50  1.643943e+09\n",
       "3  19.483167 -155.644667   2.910000  0.81  1.643942e+09\n",
       "4  19.198999 -155.436661  34.470001  2.00  1.643941e+09"
      ]
     },
     "execution_count": 6,
     "metadata": {},
     "output_type": "execute_result"
    }
   ],
   "source": [
    "final_data = data.drop(['time'], axis=1)\n",
    "final_data = final_data[final_data.timestamp != 'ValueError']\n",
    "final_data.dropna(axis = 1)\n",
    "final_data.head()"
   ]
  },
  {
   "cell_type": "code",
   "execution_count": 7,
   "id": "02247794",
   "metadata": {
    "execution": {
     "iopub.execute_input": "2022-02-11T14:59:31.554910Z",
     "iopub.status.busy": "2022-02-11T14:59:31.554260Z",
     "iopub.status.idle": "2022-02-11T14:59:31.559541Z",
     "shell.execute_reply": "2022-02-11T14:59:31.560084Z",
     "shell.execute_reply.started": "2022-02-11T14:37:37.785144Z"
    },
    "papermill": {
     "duration": 0.022366,
     "end_time": "2022-02-11T14:59:31.560286",
     "exception": false,
     "start_time": "2022-02-11T14:59:31.537920",
     "status": "completed"
    },
    "tags": []
   },
   "outputs": [],
   "source": [
    "X = final_data[['timestamp', 'latitude', 'longitude']]\n",
    "y = final_data[['mag', 'depth']]\n"
   ]
  },
  {
   "cell_type": "code",
   "execution_count": 8,
   "id": "9e5a8a41",
   "metadata": {
    "execution": {
     "iopub.execute_input": "2022-02-11T14:59:31.591593Z",
     "iopub.status.busy": "2022-02-11T14:59:31.590838Z",
     "iopub.status.idle": "2022-02-11T14:59:32.679296Z",
     "shell.execute_reply": "2022-02-11T14:59:32.679856Z",
     "shell.execute_reply.started": "2022-02-11T14:57:58.110772Z"
    },
    "papermill": {
     "duration": 1.105676,
     "end_time": "2022-02-11T14:59:32.680027",
     "exception": false,
     "start_time": "2022-02-11T14:59:31.574351",
     "status": "completed"
    },
    "tags": []
   },
   "outputs": [
    {
     "name": "stdout",
     "output_type": "stream",
     "text": [
      "(6901, 3) (3399, 3) (6901, 2) (3399, 2)\n"
     ]
    }
   ],
   "source": [
    "from sklearn.model_selection import train_test_split\n",
    "\n",
    "X_train, X_test, y_train, y_test = train_test_split(X, y, test_size=0.33, random_state=420)\n",
    "print(X_train.shape, X_test.shape, y_train.shape, y_test.shape)\n"
   ]
  },
  {
   "cell_type": "code",
   "execution_count": null,
   "id": "d21ef1dd",
   "metadata": {
    "papermill": {
     "duration": 0.014033,
     "end_time": "2022-02-11T14:59:32.708334",
     "exception": false,
     "start_time": "2022-02-11T14:59:32.694301",
     "status": "completed"
    },
    "tags": []
   },
   "outputs": [],
   "source": []
  },
  {
   "cell_type": "code",
   "execution_count": 9,
   "id": "154d9ec8",
   "metadata": {
    "execution": {
     "iopub.execute_input": "2022-02-11T14:59:32.742107Z",
     "iopub.status.busy": "2022-02-11T14:59:32.741166Z",
     "iopub.status.idle": "2022-02-11T14:59:32.743965Z",
     "shell.execute_reply": "2022-02-11T14:59:32.743493Z",
     "shell.execute_reply.started": "2022-02-11T14:57:28.979230Z"
    },
    "papermill": {
     "duration": 0.021504,
     "end_time": "2022-02-11T14:59:32.744099",
     "exception": false,
     "start_time": "2022-02-11T14:59:32.722595",
     "status": "completed"
    },
    "tags": []
   },
   "outputs": [],
   "source": [
    "# from sklearn.ensemble import RandomForestRegressor\n",
    "\n",
    "# reg = RandomForestRegressor(random_state=42)\n",
    "# reg.fit(X_train, y_train)\n",
    "# reg.predict(X_test)\n"
   ]
  }
 ],
 "metadata": {
  "kernelspec": {
   "display_name": "Python 3",
   "language": "python",
   "name": "python3"
  },
  "language_info": {
   "codemirror_mode": {
    "name": "ipython",
    "version": 3
   },
   "file_extension": ".py",
   "mimetype": "text/x-python",
   "name": "python",
   "nbconvert_exporter": "python",
   "pygments_lexer": "ipython3",
   "version": "3.7.12"
  },
  "papermill": {
   "default_parameters": {},
   "duration": 12.378234,
   "end_time": "2022-02-11T14:59:33.471242",
   "environment_variables": {},
   "exception": null,
   "input_path": "__notebook__.ipynb",
   "output_path": "__notebook__.ipynb",
   "parameters": {},
   "start_time": "2022-02-11T14:59:21.093008",
   "version": "2.3.3"
  }
 },
 "nbformat": 4,
 "nbformat_minor": 5
}
