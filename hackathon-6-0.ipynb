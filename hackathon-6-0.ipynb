{
 "cells": [
  {
   "cell_type": "markdown",
   "id": "7189951d",
   "metadata": {
    "papermill": {
     "duration": 0.040537,
     "end_time": "2022-02-11T19:23:55.488770",
     "exception": false,
     "start_time": "2022-02-11T19:23:55.448233",
     "status": "completed"
    },
    "tags": []
   },
   "source": [
    "# Importing Dataset"
   ]
  },
  {
   "cell_type": "code",
   "execution_count": 1,
   "id": "8df5e0ee",
   "metadata": {
    "_cell_guid": "b1076dfc-b9ad-4769-8c92-a6c4dae69d19",
    "_uuid": "8f2839f25d086af736a60e9eeb907d3b93b6e0e5",
    "execution": {
     "iopub.execute_input": "2022-02-11T19:23:55.573390Z",
     "iopub.status.busy": "2022-02-11T19:23:55.572191Z",
     "iopub.status.idle": "2022-02-11T19:23:55.591426Z",
     "shell.execute_reply": "2022-02-11T19:23:55.592012Z",
     "shell.execute_reply.started": "2022-02-11T18:21:04.866107Z"
    },
    "papermill": {
     "duration": 0.061894,
     "end_time": "2022-02-11T19:23:55.592357",
     "exception": false,
     "start_time": "2022-02-11T19:23:55.530463",
     "status": "completed"
    },
    "tags": []
   },
   "outputs": [
    {
     "name": "stdout",
     "output_type": "stream",
     "text": [
      "/kaggle/input/earthquake/all_month.csv\n",
      "['earthquake']\n"
     ]
    }
   ],
   "source": [
    "import numpy as np\n",
    "import pandas as pd \n",
    "\n",
    "import os\n",
    "for dirname, _, filenames in os.walk('/kaggle/input'):\n",
    "    for filename in filenames:\n",
    "        print(os.path.join(dirname, filename))\n",
    "print(os.listdir(\"../input\"))\n"
   ]
  },
  {
   "cell_type": "code",
   "execution_count": 2,
   "id": "eb0d459e",
   "metadata": {
    "execution": {
     "iopub.execute_input": "2022-02-11T19:23:55.676308Z",
     "iopub.status.busy": "2022-02-11T19:23:55.675652Z",
     "iopub.status.idle": "2022-02-11T19:23:55.809527Z",
     "shell.execute_reply": "2022-02-11T19:23:55.808993Z",
     "shell.execute_reply.started": "2022-02-11T18:21:04.888225Z"
    },
    "papermill": {
     "duration": 0.176517,
     "end_time": "2022-02-11T19:23:55.809673",
     "exception": false,
     "start_time": "2022-02-11T19:23:55.633156",
     "status": "completed"
    },
    "tags": []
   },
   "outputs": [
    {
     "data": {
      "text/html": [
       "<div>\n",
       "<style scoped>\n",
       "    .dataframe tbody tr th:only-of-type {\n",
       "        vertical-align: middle;\n",
       "    }\n",
       "\n",
       "    .dataframe tbody tr th {\n",
       "        vertical-align: top;\n",
       "    }\n",
       "\n",
       "    .dataframe thead th {\n",
       "        text-align: right;\n",
       "    }\n",
       "</style>\n",
       "<table border=\"1\" class=\"dataframe\">\n",
       "  <thead>\n",
       "    <tr style=\"text-align: right;\">\n",
       "      <th></th>\n",
       "      <th>time</th>\n",
       "      <th>latitude</th>\n",
       "      <th>longitude</th>\n",
       "      <th>depth</th>\n",
       "      <th>mag</th>\n",
       "      <th>magType</th>\n",
       "      <th>nst</th>\n",
       "      <th>gap</th>\n",
       "      <th>dmin</th>\n",
       "      <th>rms</th>\n",
       "      <th>...</th>\n",
       "      <th>updated</th>\n",
       "      <th>place</th>\n",
       "      <th>type</th>\n",
       "      <th>horizontalError</th>\n",
       "      <th>depthError</th>\n",
       "      <th>magError</th>\n",
       "      <th>magNst</th>\n",
       "      <th>status</th>\n",
       "      <th>locationSource</th>\n",
       "      <th>magSource</th>\n",
       "    </tr>\n",
       "  </thead>\n",
       "  <tbody>\n",
       "    <tr>\n",
       "      <th>0</th>\n",
       "      <td>2022-02-04T02:52:38.150Z</td>\n",
       "      <td>38.832832</td>\n",
       "      <td>-122.819336</td>\n",
       "      <td>1.800000</td>\n",
       "      <td>0.85</td>\n",
       "      <td>md</td>\n",
       "      <td>6.0</td>\n",
       "      <td>103.00</td>\n",
       "      <td>0.01188</td>\n",
       "      <td>0.0000</td>\n",
       "      <td>...</td>\n",
       "      <td>2022-02-04T02:54:15.830Z</td>\n",
       "      <td>8km NW of The Geysers, CA</td>\n",
       "      <td>earthquake</td>\n",
       "      <td>0.53</td>\n",
       "      <td>1.71</td>\n",
       "      <td>NaN</td>\n",
       "      <td>1.0</td>\n",
       "      <td>automatic</td>\n",
       "      <td>nc</td>\n",
       "      <td>nc</td>\n",
       "    </tr>\n",
       "    <tr>\n",
       "      <th>1</th>\n",
       "      <td>2022-02-04T02:50:47.970Z</td>\n",
       "      <td>32.718167</td>\n",
       "      <td>-117.160167</td>\n",
       "      <td>16.360000</td>\n",
       "      <td>0.99</td>\n",
       "      <td>ml</td>\n",
       "      <td>8.0</td>\n",
       "      <td>241.00</td>\n",
       "      <td>0.18440</td>\n",
       "      <td>0.0900</td>\n",
       "      <td>...</td>\n",
       "      <td>2022-02-04T02:54:22.814Z</td>\n",
       "      <td>4km NNE of Coronado, CA</td>\n",
       "      <td>earthquake</td>\n",
       "      <td>0.56</td>\n",
       "      <td>1.02</td>\n",
       "      <td>0.213000</td>\n",
       "      <td>4.0</td>\n",
       "      <td>automatic</td>\n",
       "      <td>ci</td>\n",
       "      <td>ci</td>\n",
       "    </tr>\n",
       "    <tr>\n",
       "      <th>2</th>\n",
       "      <td>2022-02-04T02:44:23.729Z</td>\n",
       "      <td>36.905100</td>\n",
       "      <td>-117.367100</td>\n",
       "      <td>9.400000</td>\n",
       "      <td>1.50</td>\n",
       "      <td>ml</td>\n",
       "      <td>14.0</td>\n",
       "      <td>184.66</td>\n",
       "      <td>0.09100</td>\n",
       "      <td>0.3503</td>\n",
       "      <td>...</td>\n",
       "      <td>2022-02-04T02:47:57.431Z</td>\n",
       "      <td>54 km W of Beatty, Nevada</td>\n",
       "      <td>earthquake</td>\n",
       "      <td>NaN</td>\n",
       "      <td>0.50</td>\n",
       "      <td>0.290000</td>\n",
       "      <td>9.0</td>\n",
       "      <td>automatic</td>\n",
       "      <td>nn</td>\n",
       "      <td>nn</td>\n",
       "    </tr>\n",
       "    <tr>\n",
       "      <th>3</th>\n",
       "      <td>2022-02-04T02:32:05.480Z</td>\n",
       "      <td>19.483167</td>\n",
       "      <td>-155.644667</td>\n",
       "      <td>2.910000</td>\n",
       "      <td>0.81</td>\n",
       "      <td>md</td>\n",
       "      <td>15.0</td>\n",
       "      <td>68.00</td>\n",
       "      <td>NaN</td>\n",
       "      <td>0.1200</td>\n",
       "      <td>...</td>\n",
       "      <td>2022-02-04T02:56:11.570Z</td>\n",
       "      <td>23 km E of Honaunau-Napoopoo, Hawaii</td>\n",
       "      <td>earthquake</td>\n",
       "      <td>0.33</td>\n",
       "      <td>0.88</td>\n",
       "      <td>0.264057</td>\n",
       "      <td>7.0</td>\n",
       "      <td>reviewed</td>\n",
       "      <td>hv</td>\n",
       "      <td>hv</td>\n",
       "    </tr>\n",
       "    <tr>\n",
       "      <th>4</th>\n",
       "      <td>2022-02-04T02:22:41.920Z</td>\n",
       "      <td>19.198999</td>\n",
       "      <td>-155.436661</td>\n",
       "      <td>34.470001</td>\n",
       "      <td>2.00</td>\n",
       "      <td>ml</td>\n",
       "      <td>49.0</td>\n",
       "      <td>137.00</td>\n",
       "      <td>NaN</td>\n",
       "      <td>0.1100</td>\n",
       "      <td>...</td>\n",
       "      <td>2022-02-04T02:28:13.650Z</td>\n",
       "      <td>4 km E of Pāhala, Hawaii</td>\n",
       "      <td>earthquake</td>\n",
       "      <td>0.46</td>\n",
       "      <td>0.61</td>\n",
       "      <td>4.090000</td>\n",
       "      <td>11.0</td>\n",
       "      <td>automatic</td>\n",
       "      <td>hv</td>\n",
       "      <td>hv</td>\n",
       "    </tr>\n",
       "  </tbody>\n",
       "</table>\n",
       "<p>5 rows × 22 columns</p>\n",
       "</div>"
      ],
      "text/plain": [
       "                       time   latitude   longitude      depth   mag magType  \\\n",
       "0  2022-02-04T02:52:38.150Z  38.832832 -122.819336   1.800000  0.85      md   \n",
       "1  2022-02-04T02:50:47.970Z  32.718167 -117.160167  16.360000  0.99      ml   \n",
       "2  2022-02-04T02:44:23.729Z  36.905100 -117.367100   9.400000  1.50      ml   \n",
       "3  2022-02-04T02:32:05.480Z  19.483167 -155.644667   2.910000  0.81      md   \n",
       "4  2022-02-04T02:22:41.920Z  19.198999 -155.436661  34.470001  2.00      ml   \n",
       "\n",
       "    nst     gap     dmin     rms  ...                   updated  \\\n",
       "0   6.0  103.00  0.01188  0.0000  ...  2022-02-04T02:54:15.830Z   \n",
       "1   8.0  241.00  0.18440  0.0900  ...  2022-02-04T02:54:22.814Z   \n",
       "2  14.0  184.66  0.09100  0.3503  ...  2022-02-04T02:47:57.431Z   \n",
       "3  15.0   68.00      NaN  0.1200  ...  2022-02-04T02:56:11.570Z   \n",
       "4  49.0  137.00      NaN  0.1100  ...  2022-02-04T02:28:13.650Z   \n",
       "\n",
       "                                  place        type horizontalError  \\\n",
       "0             8km NW of The Geysers, CA  earthquake            0.53   \n",
       "1               4km NNE of Coronado, CA  earthquake            0.56   \n",
       "2             54 km W of Beatty, Nevada  earthquake             NaN   \n",
       "3  23 km E of Honaunau-Napoopoo, Hawaii  earthquake            0.33   \n",
       "4              4 km E of Pāhala, Hawaii  earthquake            0.46   \n",
       "\n",
       "  depthError  magError  magNst     status  locationSource magSource  \n",
       "0       1.71       NaN     1.0  automatic              nc        nc  \n",
       "1       1.02  0.213000     4.0  automatic              ci        ci  \n",
       "2       0.50  0.290000     9.0  automatic              nn        nn  \n",
       "3       0.88  0.264057     7.0   reviewed              hv        hv  \n",
       "4       0.61  4.090000    11.0  automatic              hv        hv  \n",
       "\n",
       "[5 rows x 22 columns]"
      ]
     },
     "execution_count": 2,
     "metadata": {},
     "output_type": "execute_result"
    }
   ],
   "source": [
    "data = pd.read_csv(\"/kaggle/input/earthquake/all_month.csv\")\n",
    "data.head()"
   ]
  },
  {
   "cell_type": "code",
   "execution_count": 3,
   "id": "fb58eb67",
   "metadata": {
    "execution": {
     "iopub.execute_input": "2022-02-11T19:23:55.900467Z",
     "iopub.status.busy": "2022-02-11T19:23:55.899776Z",
     "iopub.status.idle": "2022-02-11T19:23:55.902400Z",
     "shell.execute_reply": "2022-02-11T19:23:55.902901Z",
     "shell.execute_reply.started": "2022-02-11T18:21:05.007298Z"
    },
    "papermill": {
     "duration": 0.051924,
     "end_time": "2022-02-11T19:23:55.903071",
     "exception": false,
     "start_time": "2022-02-11T19:23:55.851147",
     "status": "completed"
    },
    "tags": []
   },
   "outputs": [
    {
     "data": {
      "text/plain": [
       "Index(['time', 'latitude', 'longitude', 'depth', 'mag', 'magType', 'nst',\n",
       "       'gap', 'dmin', 'rms', 'net', 'id', 'updated', 'place', 'type',\n",
       "       'horizontalError', 'depthError', 'magError', 'magNst', 'status',\n",
       "       'locationSource', 'magSource'],\n",
       "      dtype='object')"
      ]
     },
     "execution_count": 3,
     "metadata": {},
     "output_type": "execute_result"
    }
   ],
   "source": [
    "data.columns"
   ]
  },
  {
   "cell_type": "markdown",
   "id": "120cd910",
   "metadata": {
    "papermill": {
     "duration": 0.040778,
     "end_time": "2022-02-11T19:23:55.987663",
     "exception": false,
     "start_time": "2022-02-11T19:23:55.946885",
     "status": "completed"
    },
    "tags": []
   },
   "source": [
    "# Data Preprocessing"
   ]
  },
  {
   "cell_type": "code",
   "execution_count": 4,
   "id": "aa8e1fae",
   "metadata": {
    "execution": {
     "iopub.execute_input": "2022-02-11T19:23:56.075270Z",
     "iopub.status.busy": "2022-02-11T19:23:56.074416Z",
     "iopub.status.idle": "2022-02-11T19:23:56.131483Z",
     "shell.execute_reply": "2022-02-11T19:23:56.132010Z",
     "shell.execute_reply.started": "2022-02-11T18:21:05.018833Z"
    },
    "papermill": {
     "duration": 0.102464,
     "end_time": "2022-02-11T19:23:56.132186",
     "exception": false,
     "start_time": "2022-02-11T19:23:56.029722",
     "status": "completed"
    },
    "tags": []
   },
   "outputs": [
    {
     "data": {
      "text/html": [
       "<div>\n",
       "<style scoped>\n",
       "    .dataframe tbody tr th:only-of-type {\n",
       "        vertical-align: middle;\n",
       "    }\n",
       "\n",
       "    .dataframe tbody tr th {\n",
       "        vertical-align: top;\n",
       "    }\n",
       "\n",
       "    .dataframe thead th {\n",
       "        text-align: right;\n",
       "    }\n",
       "</style>\n",
       "<table border=\"1\" class=\"dataframe\">\n",
       "  <thead>\n",
       "    <tr style=\"text-align: right;\">\n",
       "      <th></th>\n",
       "      <th>latitude</th>\n",
       "      <th>longitude</th>\n",
       "      <th>depth</th>\n",
       "      <th>mag</th>\n",
       "      <th>nst</th>\n",
       "      <th>gap</th>\n",
       "      <th>dmin</th>\n",
       "      <th>rms</th>\n",
       "      <th>horizontalError</th>\n",
       "      <th>depthError</th>\n",
       "      <th>magError</th>\n",
       "      <th>magNst</th>\n",
       "    </tr>\n",
       "  </thead>\n",
       "  <tbody>\n",
       "    <tr>\n",
       "      <th>count</th>\n",
       "      <td>10300.000000</td>\n",
       "      <td>10300.000000</td>\n",
       "      <td>10300.000000</td>\n",
       "      <td>10298.000000</td>\n",
       "      <td>7692.000000</td>\n",
       "      <td>8900.000000</td>\n",
       "      <td>7340.000000</td>\n",
       "      <td>10300.000000</td>\n",
       "      <td>7735.000000</td>\n",
       "      <td>10300.000000</td>\n",
       "      <td>8361.000000</td>\n",
       "      <td>8886.000000</td>\n",
       "    </tr>\n",
       "    <tr>\n",
       "      <th>mean</th>\n",
       "      <td>35.845473</td>\n",
       "      <td>-110.053138</td>\n",
       "      <td>21.017624</td>\n",
       "      <td>1.625816</td>\n",
       "      <td>20.145866</td>\n",
       "      <td>120.363762</td>\n",
       "      <td>0.643415</td>\n",
       "      <td>0.257429</td>\n",
       "      <td>1.722715</td>\n",
       "      <td>2.769873</td>\n",
       "      <td>0.276073</td>\n",
       "      <td>14.064483</td>\n",
       "    </tr>\n",
       "    <tr>\n",
       "      <th>std</th>\n",
       "      <td>19.260664</td>\n",
       "      <td>68.519661</td>\n",
       "      <td>51.742311</td>\n",
       "      <td>1.277734</td>\n",
       "      <td>15.539910</td>\n",
       "      <td>66.192231</td>\n",
       "      <td>2.162986</td>\n",
       "      <td>0.278112</td>\n",
       "      <td>3.075841</td>\n",
       "      <td>30.427658</td>\n",
       "      <td>0.512642</td>\n",
       "      <td>26.798853</td>\n",
       "    </tr>\n",
       "    <tr>\n",
       "      <th>min</th>\n",
       "      <td>-65.343700</td>\n",
       "      <td>-179.998500</td>\n",
       "      <td>-3.500000</td>\n",
       "      <td>-1.260000</td>\n",
       "      <td>2.000000</td>\n",
       "      <td>13.000000</td>\n",
       "      <td>0.000000</td>\n",
       "      <td>0.000000</td>\n",
       "      <td>0.090000</td>\n",
       "      <td>0.000000</td>\n",
       "      <td>0.000000</td>\n",
       "      <td>0.000000</td>\n",
       "    </tr>\n",
       "    <tr>\n",
       "      <th>25%</th>\n",
       "      <td>33.427625</td>\n",
       "      <td>-149.816475</td>\n",
       "      <td>2.990000</td>\n",
       "      <td>0.800000</td>\n",
       "      <td>9.000000</td>\n",
       "      <td>71.000000</td>\n",
       "      <td>0.020790</td>\n",
       "      <td>0.080000</td>\n",
       "      <td>0.280000</td>\n",
       "      <td>0.470000</td>\n",
       "      <td>0.103000</td>\n",
       "      <td>4.000000</td>\n",
       "    </tr>\n",
       "    <tr>\n",
       "      <th>50%</th>\n",
       "      <td>37.981917</td>\n",
       "      <td>-119.824950</td>\n",
       "      <td>8.191171</td>\n",
       "      <td>1.400000</td>\n",
       "      <td>16.000000</td>\n",
       "      <td>105.000000</td>\n",
       "      <td>0.062765</td>\n",
       "      <td>0.140000</td>\n",
       "      <td>0.470000</td>\n",
       "      <td>0.785595</td>\n",
       "      <td>0.160000</td>\n",
       "      <td>7.000000</td>\n",
       "    </tr>\n",
       "    <tr>\n",
       "      <th>75%</th>\n",
       "      <td>44.350983</td>\n",
       "      <td>-116.180750</td>\n",
       "      <td>15.075000</td>\n",
       "      <td>2.070000</td>\n",
       "      <td>26.000000</td>\n",
       "      <td>154.000000</td>\n",
       "      <td>0.147000</td>\n",
       "      <td>0.320000</td>\n",
       "      <td>1.014939</td>\n",
       "      <td>1.800000</td>\n",
       "      <td>0.240000</td>\n",
       "      <td>15.000000</td>\n",
       "    </tr>\n",
       "    <tr>\n",
       "      <th>max</th>\n",
       "      <td>85.309300</td>\n",
       "      <td>179.990100</td>\n",
       "      <td>641.930000</td>\n",
       "      <td>6.800000</td>\n",
       "      <td>146.000000</td>\n",
       "      <td>352.000000</td>\n",
       "      <td>39.750000</td>\n",
       "      <td>2.240000</td>\n",
       "      <td>30.900000</td>\n",
       "      <td>2365.500000</td>\n",
       "      <td>5.350000</td>\n",
       "      <td>618.000000</td>\n",
       "    </tr>\n",
       "  </tbody>\n",
       "</table>\n",
       "</div>"
      ],
      "text/plain": [
       "           latitude     longitude         depth           mag          nst  \\\n",
       "count  10300.000000  10300.000000  10300.000000  10298.000000  7692.000000   \n",
       "mean      35.845473   -110.053138     21.017624      1.625816    20.145866   \n",
       "std       19.260664     68.519661     51.742311      1.277734    15.539910   \n",
       "min      -65.343700   -179.998500     -3.500000     -1.260000     2.000000   \n",
       "25%       33.427625   -149.816475      2.990000      0.800000     9.000000   \n",
       "50%       37.981917   -119.824950      8.191171      1.400000    16.000000   \n",
       "75%       44.350983   -116.180750     15.075000      2.070000    26.000000   \n",
       "max       85.309300    179.990100    641.930000      6.800000   146.000000   \n",
       "\n",
       "               gap         dmin           rms  horizontalError    depthError  \\\n",
       "count  8900.000000  7340.000000  10300.000000      7735.000000  10300.000000   \n",
       "mean    120.363762     0.643415      0.257429         1.722715      2.769873   \n",
       "std      66.192231     2.162986      0.278112         3.075841     30.427658   \n",
       "min      13.000000     0.000000      0.000000         0.090000      0.000000   \n",
       "25%      71.000000     0.020790      0.080000         0.280000      0.470000   \n",
       "50%     105.000000     0.062765      0.140000         0.470000      0.785595   \n",
       "75%     154.000000     0.147000      0.320000         1.014939      1.800000   \n",
       "max     352.000000    39.750000      2.240000        30.900000   2365.500000   \n",
       "\n",
       "          magError       magNst  \n",
       "count  8361.000000  8886.000000  \n",
       "mean      0.276073    14.064483  \n",
       "std       0.512642    26.798853  \n",
       "min       0.000000     0.000000  \n",
       "25%       0.103000     4.000000  \n",
       "50%       0.160000     7.000000  \n",
       "75%       0.240000    15.000000  \n",
       "max       5.350000   618.000000  "
      ]
     },
     "execution_count": 4,
     "metadata": {},
     "output_type": "execute_result"
    }
   ],
   "source": [
    "data.describe()"
   ]
  },
  {
   "cell_type": "code",
   "execution_count": 5,
   "id": "ffecbb2e",
   "metadata": {
    "execution": {
     "iopub.execute_input": "2022-02-11T19:23:56.233797Z",
     "iopub.status.busy": "2022-02-11T19:23:56.221914Z",
     "iopub.status.idle": "2022-02-11T19:23:56.249574Z",
     "shell.execute_reply": "2022-02-11T19:23:56.248837Z",
     "shell.execute_reply.started": "2022-02-11T18:21:05.086770Z"
    },
    "papermill": {
     "duration": 0.075648,
     "end_time": "2022-02-11T19:23:56.249774",
     "exception": false,
     "start_time": "2022-02-11T19:23:56.174126",
     "status": "completed"
    },
    "tags": []
   },
   "outputs": [
    {
     "name": "stdout",
     "output_type": "stream",
     "text": [
      "<class 'pandas.core.frame.DataFrame'>\n",
      "RangeIndex: 10300 entries, 0 to 10299\n",
      "Data columns (total 22 columns):\n",
      " #   Column           Non-Null Count  Dtype  \n",
      "---  ------           --------------  -----  \n",
      " 0   time             10300 non-null  object \n",
      " 1   latitude         10300 non-null  float64\n",
      " 2   longitude        10300 non-null  float64\n",
      " 3   depth            10300 non-null  float64\n",
      " 4   mag              10298 non-null  float64\n",
      " 5   magType          10298 non-null  object \n",
      " 6   nst              7692 non-null   float64\n",
      " 7   gap              8900 non-null   float64\n",
      " 8   dmin             7340 non-null   float64\n",
      " 9   rms              10300 non-null  float64\n",
      " 10  net              10300 non-null  object \n",
      " 11  id               10300 non-null  object \n",
      " 12  updated          10300 non-null  object \n",
      " 13  place            10300 non-null  object \n",
      " 14  type             10300 non-null  object \n",
      " 15  horizontalError  7735 non-null   float64\n",
      " 16  depthError       10300 non-null  float64\n",
      " 17  magError         8361 non-null   float64\n",
      " 18  magNst           8886 non-null   float64\n",
      " 19  status           10300 non-null  object \n",
      " 20  locationSource   10300 non-null  object \n",
      " 21  magSource        10300 non-null  object \n",
      "dtypes: float64(12), object(10)\n",
      "memory usage: 1.7+ MB\n"
     ]
    }
   ],
   "source": [
    "data.info()"
   ]
  },
  {
   "cell_type": "markdown",
   "id": "3d17928e",
   "metadata": {
    "papermill": {
     "duration": 0.042103,
     "end_time": "2022-02-11T19:23:56.334964",
     "exception": false,
     "start_time": "2022-02-11T19:23:56.292861",
     "status": "completed"
    },
    "tags": []
   },
   "source": [
    " We can see that there are some null values"
   ]
  },
  {
   "cell_type": "code",
   "execution_count": 6,
   "id": "bbfa739e",
   "metadata": {
    "execution": {
     "iopub.execute_input": "2022-02-11T19:23:56.437012Z",
     "iopub.status.busy": "2022-02-11T19:23:56.423049Z",
     "iopub.status.idle": "2022-02-11T19:23:56.446401Z",
     "shell.execute_reply": "2022-02-11T19:23:56.445434Z",
     "shell.execute_reply.started": "2022-02-11T18:21:05.115761Z"
    },
    "papermill": {
     "duration": 0.069038,
     "end_time": "2022-02-11T19:23:56.446584",
     "exception": false,
     "start_time": "2022-02-11T19:23:56.377546",
     "status": "completed"
    },
    "tags": []
   },
   "outputs": [
    {
     "data": {
      "text/plain": [
       "time                  0\n",
       "latitude              0\n",
       "longitude             0\n",
       "depth                 0\n",
       "mag                   2\n",
       "magType               2\n",
       "nst                2608\n",
       "gap                1400\n",
       "dmin               2960\n",
       "rms                   0\n",
       "net                   0\n",
       "id                    0\n",
       "updated               0\n",
       "place                 0\n",
       "type                  0\n",
       "horizontalError    2565\n",
       "depthError            0\n",
       "magError           1939\n",
       "magNst             1414\n",
       "status                0\n",
       "locationSource        0\n",
       "magSource             0\n",
       "dtype: int64"
      ]
     },
     "execution_count": 6,
     "metadata": {},
     "output_type": "execute_result"
    }
   ],
   "source": [
    "data.isnull().sum()"
   ]
  },
  {
   "cell_type": "code",
   "execution_count": 7,
   "id": "521720b1",
   "metadata": {
    "execution": {
     "iopub.execute_input": "2022-02-11T19:23:56.538561Z",
     "iopub.status.busy": "2022-02-11T19:23:56.537884Z",
     "iopub.status.idle": "2022-02-11T19:23:56.542463Z",
     "shell.execute_reply": "2022-02-11T19:23:56.541784Z",
     "shell.execute_reply.started": "2022-02-11T18:21:05.140257Z"
    },
    "papermill": {
     "duration": 0.052229,
     "end_time": "2022-02-11T19:23:56.542621",
     "exception": false,
     "start_time": "2022-02-11T19:23:56.490392",
     "status": "completed"
    },
    "tags": []
   },
   "outputs": [
    {
     "data": {
      "text/plain": [
       "(10300, 22)"
      ]
     },
     "execution_count": 7,
     "metadata": {},
     "output_type": "execute_result"
    }
   ],
   "source": [
    "data.shape"
   ]
  },
  {
   "cell_type": "code",
   "execution_count": 8,
   "id": "8c7eded3",
   "metadata": {
    "execution": {
     "iopub.execute_input": "2022-02-11T19:23:56.651718Z",
     "iopub.status.busy": "2022-02-11T19:23:56.650621Z",
     "iopub.status.idle": "2022-02-11T19:23:56.659684Z",
     "shell.execute_reply": "2022-02-11T19:23:56.660295Z",
     "shell.execute_reply.started": "2022-02-11T18:21:05.148488Z"
    },
    "papermill": {
     "duration": 0.069948,
     "end_time": "2022-02-11T19:23:56.660491",
     "exception": false,
     "start_time": "2022-02-11T19:23:56.590543",
     "status": "completed"
    },
    "tags": []
   },
   "outputs": [
    {
     "data": {
      "text/plain": [
       "time                0.00\n",
       "latitude            0.00\n",
       "longitude           0.00\n",
       "depth               0.00\n",
       "mag                 0.02\n",
       "magType             0.02\n",
       "nst                25.32\n",
       "gap                13.59\n",
       "dmin               28.74\n",
       "rms                 0.00\n",
       "net                 0.00\n",
       "id                  0.00\n",
       "updated             0.00\n",
       "place               0.00\n",
       "type                0.00\n",
       "horizontalError    24.90\n",
       "depthError          0.00\n",
       "magError           18.83\n",
       "magNst             13.73\n",
       "status              0.00\n",
       "locationSource      0.00\n",
       "magSource           0.00\n",
       "dtype: float64"
      ]
     },
     "execution_count": 8,
     "metadata": {},
     "output_type": "execute_result"
    }
   ],
   "source": [
    "round(data.isnull().sum()*100 /len(data), 2)"
   ]
  },
  {
   "cell_type": "markdown",
   "id": "415c0104",
   "metadata": {
    "papermill": {
     "duration": 0.043848,
     "end_time": "2022-02-11T19:23:56.749455",
     "exception": false,
     "start_time": "2022-02-11T19:23:56.705607",
     "status": "completed"
    },
    "tags": []
   },
   "source": [
    "As we can see that mag, magtype, nst, gap, dmin, horizontalError, magNst, magError have a lot of null values. Hence, we are replacing these values with mean, except for magType which has str dtype"
   ]
  },
  {
   "cell_type": "code",
   "execution_count": 9,
   "id": "53757de3",
   "metadata": {
    "execution": {
     "iopub.execute_input": "2022-02-11T19:23:56.840418Z",
     "iopub.status.busy": "2022-02-11T19:23:56.839558Z",
     "iopub.status.idle": "2022-02-11T19:23:56.847708Z",
     "shell.execute_reply": "2022-02-11T19:23:56.848237Z",
     "shell.execute_reply.started": "2022-02-11T18:21:05.179643Z"
    },
    "papermill": {
     "duration": 0.054956,
     "end_time": "2022-02-11T19:23:56.848412",
     "exception": false,
     "start_time": "2022-02-11T19:23:56.793456",
     "status": "completed"
    },
    "tags": []
   },
   "outputs": [
    {
     "data": {
      "text/plain": [
       "ml       5800\n",
       "md       3411\n",
       "mb        923\n",
       "mww       107\n",
       "mwr        24\n",
       "mb_lg      15\n",
       "mw         10\n",
       "mh          7\n",
       "ms_20       1\n",
       "Name: magType, dtype: int64"
      ]
     },
     "execution_count": 9,
     "metadata": {},
     "output_type": "execute_result"
    }
   ],
   "source": [
    "data['magType'].value_counts()"
   ]
  },
  {
   "cell_type": "markdown",
   "id": "72b8226b",
   "metadata": {
    "papermill": {
     "duration": 0.044644,
     "end_time": "2022-02-11T19:23:56.937177",
     "exception": false,
     "start_time": "2022-02-11T19:23:56.892533",
     "status": "completed"
    },
    "tags": []
   },
   "source": [
    "Since, magType has maximum 'ml', we will replace nan with 'ml'"
   ]
  },
  {
   "cell_type": "markdown",
   "id": "d1c93b9d",
   "metadata": {
    "papermill": {
     "duration": 0.043738,
     "end_time": "2022-02-11T19:23:57.025476",
     "exception": false,
     "start_time": "2022-02-11T19:23:56.981738",
     "status": "completed"
    },
    "tags": []
   },
   "source": [
    "# Replacing null values"
   ]
  },
  {
   "cell_type": "code",
   "execution_count": 10,
   "id": "7fea8200",
   "metadata": {
    "execution": {
     "iopub.execute_input": "2022-02-11T19:23:57.119819Z",
     "iopub.status.busy": "2022-02-11T19:23:57.119148Z",
     "iopub.status.idle": "2022-02-11T19:23:57.132261Z",
     "shell.execute_reply": "2022-02-11T19:23:57.132809Z",
     "shell.execute_reply.started": "2022-02-11T18:21:05.189692Z"
    },
    "papermill": {
     "duration": 0.062817,
     "end_time": "2022-02-11T19:23:57.133039",
     "exception": false,
     "start_time": "2022-02-11T19:23:57.070222",
     "status": "completed"
    },
    "tags": []
   },
   "outputs": [],
   "source": [
    "nst_mean = data['nst'].mean()\n",
    "data['nst'].fillna(value = nst_mean, inplace = True)\n",
    "\n",
    "mag_mean = data['mag'].mean()\n",
    "data['mag'].fillna(value = mag_mean, inplace = True)\n",
    "\n",
    "gap_mean = data['gap'].mean()\n",
    "data['gap'].fillna(value = gap_mean, inplace = True)\n",
    "\n",
    "horizontalError_mean = data['horizontalError'].mean()\n",
    "data['horizontalError'].fillna(value = horizontalError_mean, inplace = True)\n",
    "\n",
    "magError_mean = data['magError'].mean()\n",
    "data['magError'].fillna(value = magError_mean, inplace = True)\n",
    "\n",
    "magNst_mean = data['magNst'].mean()\n",
    "data['magNst'].fillna(value = magNst_mean, inplace = True)\n",
    "\n",
    "dmin_mean = data['dmin'].mean()\n",
    "data['dmin'].fillna(value = dmin_mean, inplace = True)\n",
    "\n",
    "data['magType'].fillna('ml', inplace = True)"
   ]
  },
  {
   "cell_type": "code",
   "execution_count": 11,
   "id": "ac19cae6",
   "metadata": {
    "execution": {
     "iopub.execute_input": "2022-02-11T19:23:57.225090Z",
     "iopub.status.busy": "2022-02-11T19:23:57.224424Z",
     "iopub.status.idle": "2022-02-11T19:23:57.243313Z",
     "shell.execute_reply": "2022-02-11T19:23:57.243853Z",
     "shell.execute_reply.started": "2022-02-11T18:21:05.208555Z"
    },
    "papermill": {
     "duration": 0.066657,
     "end_time": "2022-02-11T19:23:57.244033",
     "exception": false,
     "start_time": "2022-02-11T19:23:57.177376",
     "status": "completed"
    },
    "tags": []
   },
   "outputs": [
    {
     "data": {
      "text/plain": [
       "time               0\n",
       "latitude           0\n",
       "longitude          0\n",
       "depth              0\n",
       "mag                0\n",
       "magType            0\n",
       "nst                0\n",
       "gap                0\n",
       "dmin               0\n",
       "rms                0\n",
       "net                0\n",
       "id                 0\n",
       "updated            0\n",
       "place              0\n",
       "type               0\n",
       "horizontalError    0\n",
       "depthError         0\n",
       "magError           0\n",
       "magNst             0\n",
       "status             0\n",
       "locationSource     0\n",
       "magSource          0\n",
       "dtype: int64"
      ]
     },
     "execution_count": 11,
     "metadata": {},
     "output_type": "execute_result"
    }
   ],
   "source": [
    "data.isnull().sum()"
   ]
  },
  {
   "cell_type": "markdown",
   "id": "85278da8",
   "metadata": {
    "papermill": {
     "duration": 0.043896,
     "end_time": "2022-02-11T19:23:57.333785",
     "exception": false,
     "start_time": "2022-02-11T19:23:57.289889",
     "status": "completed"
    },
    "tags": []
   },
   "source": [
    "# Checking the Correlation"
   ]
  },
  {
   "cell_type": "code",
   "execution_count": 12,
   "id": "1867d1a2",
   "metadata": {
    "execution": {
     "iopub.execute_input": "2022-02-11T19:23:57.425898Z",
     "iopub.status.busy": "2022-02-11T19:23:57.425089Z",
     "iopub.status.idle": "2022-02-11T19:23:58.526885Z",
     "shell.execute_reply": "2022-02-11T19:23:58.526253Z",
     "shell.execute_reply.started": "2022-02-11T18:21:05.233217Z"
    },
    "papermill": {
     "duration": 1.149298,
     "end_time": "2022-02-11T19:23:58.527032",
     "exception": false,
     "start_time": "2022-02-11T19:23:57.377734",
     "status": "completed"
    },
    "tags": []
   },
   "outputs": [],
   "source": [
    "import seaborn as sns\n",
    "import matplotlib.pyplot as plt\n",
    "import datetime"
   ]
  },
  {
   "cell_type": "code",
   "execution_count": 13,
   "id": "c7dbec00",
   "metadata": {
    "execution": {
     "iopub.execute_input": "2022-02-11T19:23:58.626718Z",
     "iopub.status.busy": "2022-02-11T19:23:58.625973Z",
     "iopub.status.idle": "2022-02-11T19:23:58.809672Z",
     "shell.execute_reply": "2022-02-11T19:23:58.808943Z",
     "shell.execute_reply.started": "2022-02-11T18:21:05.239742Z"
    },
    "papermill": {
     "duration": 0.236323,
     "end_time": "2022-02-11T19:23:58.809823",
     "exception": false,
     "start_time": "2022-02-11T19:23:58.573500",
     "status": "completed"
    },
    "tags": []
   },
   "outputs": [],
   "source": [
    "# Changing the format of time\n",
    "\n",
    "timestamp_arr = []\n",
    "for d in data[\"time\"]:\n",
    "    date_format = datetime.datetime.strptime(d,\"%Y-%m-%dT%H:%M:%S.%fZ\")\n",
    "    timestamp_arr.append(datetime.datetime.timestamp(date_format))\n"
   ]
  },
  {
   "cell_type": "code",
   "execution_count": 14,
   "id": "76d5c582",
   "metadata": {
    "execution": {
     "iopub.execute_input": "2022-02-11T19:23:58.905984Z",
     "iopub.status.busy": "2022-02-11T19:23:58.905275Z",
     "iopub.status.idle": "2022-02-11T19:23:58.914772Z",
     "shell.execute_reply": "2022-02-11T19:23:58.915392Z",
     "shell.execute_reply.started": "2022-02-11T18:21:05.437950Z"
    },
    "papermill": {
     "duration": 0.059539,
     "end_time": "2022-02-11T19:23:58.915581",
     "exception": false,
     "start_time": "2022-02-11T19:23:58.856042",
     "status": "completed"
    },
    "tags": []
   },
   "outputs": [
    {
     "data": {
      "text/plain": [
       "0    1.643943e+09\n",
       "1    1.643943e+09\n",
       "2    1.643943e+09\n",
       "3    1.643942e+09\n",
       "4    1.643941e+09\n",
       "Name: timestamp, dtype: float64"
      ]
     },
     "execution_count": 14,
     "metadata": {},
     "output_type": "execute_result"
    }
   ],
   "source": [
    "timestamp = pd.Series(timestamp_arr)\n",
    "data['timestamp'] = timestamp.values\n",
    "data[\"timestamp\"].head()"
   ]
  },
  {
   "cell_type": "code",
   "execution_count": 15,
   "id": "96365f25",
   "metadata": {
    "execution": {
     "iopub.execute_input": "2022-02-11T19:23:59.011219Z",
     "iopub.status.busy": "2022-02-11T19:23:59.010514Z",
     "iopub.status.idle": "2022-02-11T19:24:00.240001Z",
     "shell.execute_reply": "2022-02-11T19:24:00.240509Z",
     "shell.execute_reply.started": "2022-02-11T18:21:05.452373Z"
    },
    "papermill": {
     "duration": 1.27926,
     "end_time": "2022-02-11T19:24:00.240680",
     "exception": false,
     "start_time": "2022-02-11T19:23:58.961420",
     "status": "completed"
    },
    "tags": []
   },
   "outputs": [
    {
     "data": {
      "text/plain": [
       "<AxesSubplot:>"
      ]
     },
     "execution_count": 15,
     "metadata": {},
     "output_type": "execute_result"
    },
    {
     "data": {
      "image/png": "[encoded data removed]",
      "text/plain": [
       "<Figure size 936x720 with 2 Axes>"
      ]
     },
     "metadata": {
      "needs_background": "light"
     },
     "output_type": "display_data"
    }
   ],
   "source": [
    "plt.figure(figsize=(13,10))\n",
    "sns.heatmap(data.corr(), annot = True)"
   ]
  },
  {
   "cell_type": "markdown",
   "id": "d3ab72db",
   "metadata": {
    "papermill": {
     "duration": 0.048271,
     "end_time": "2022-02-11T19:24:00.338911",
     "exception": false,
     "start_time": "2022-02-11T19:24:00.290640",
     "status": "completed"
    },
    "tags": []
   },
   "source": [
    "1. Our dependent variables are mag and depth.\n",
    "2. With mag, latitude has high negative correlation while longitude, dmin, rms, horizontalError and magNst have high positive correlation\n",
    "3. With depth dmin, rms, horizontalError have high positive correlation."
   ]
  },
  {
   "cell_type": "markdown",
   "id": "a3a47a52",
   "metadata": {
    "papermill": {
     "duration": 0.050352,
     "end_time": "2022-02-11T19:24:00.438896",
     "exception": false,
     "start_time": "2022-02-11T19:24:00.388544",
     "status": "completed"
    },
    "tags": []
   },
   "source": [
    "# Checking for Outliers"
   ]
  },
  {
   "cell_type": "code",
   "execution_count": 16,
   "id": "a7ad78a5",
   "metadata": {
    "execution": {
     "iopub.execute_input": "2022-02-11T19:24:00.550836Z",
     "iopub.status.busy": "2022-02-11T19:24:00.546519Z",
     "iopub.status.idle": "2022-02-11T19:24:01.771843Z",
     "shell.execute_reply": "2022-02-11T19:24:01.772393Z",
     "shell.execute_reply.started": "2022-02-11T18:21:06.677443Z"
    },
    "papermill": {
     "duration": 1.283595,
     "end_time": "2022-02-11T19:24:01.772574",
     "exception": false,
     "start_time": "2022-02-11T19:24:00.488979",
     "status": "completed"
    },
    "tags": []
   },
   "outputs": [
    {
     "data": {
      "text/plain": [
       "<AxesSubplot:xlabel='latitude', ylabel='mag'>"
      ]
     },
     "execution_count": 16,
     "metadata": {},
     "output_type": "execute_result"
    },
    {
     "data": {
      "image/png": "[encoded data removed]",
      "text/plain": [
       "<Figure size 1440x720 with 1 Axes>"
      ]
     },
     "metadata": {
      "needs_background": "light"
     },
     "output_type": "display_data"
    }
   ],
   "source": [
    "plt.figure(figsize=(20,10))\n",
    "sns.scatterplot(data=data, x=\"latitude\", y=\"mag\", hue = 'longitude', size = 'depth')"
   ]
  },
  {
   "cell_type": "markdown",
   "id": "298c9582",
   "metadata": {
    "papermill": {
     "duration": 0.055076,
     "end_time": "2022-02-11T19:24:01.884061",
     "exception": false,
     "start_time": "2022-02-11T19:24:01.828985",
     "status": "completed"
    },
    "tags": []
   },
   "source": [
    "# Dropping Columns"
   ]
  },
  {
   "cell_type": "code",
   "execution_count": 17,
   "id": "e883ad7e",
   "metadata": {
    "execution": {
     "iopub.execute_input": "2022-02-11T19:24:02.013042Z",
     "iopub.status.busy": "2022-02-11T19:24:02.012310Z",
     "iopub.status.idle": "2022-02-11T19:24:02.022451Z",
     "shell.execute_reply": "2022-02-11T19:24:02.023010Z",
     "shell.execute_reply.started": "2022-02-11T18:21:07.869373Z"
    },
    "papermill": {
     "duration": 0.083579,
     "end_time": "2022-02-11T19:24:02.023186",
     "exception": false,
     "start_time": "2022-02-11T19:24:01.939607",
     "status": "completed"
    },
    "tags": []
   },
   "outputs": [
    {
     "name": "stdout",
     "output_type": "stream",
     "text": [
      "<class 'pandas.core.frame.DataFrame'>\n",
      "RangeIndex: 10300 entries, 0 to 10299\n",
      "Data columns (total 23 columns):\n",
      " #   Column           Non-Null Count  Dtype  \n",
      "---  ------           --------------  -----  \n",
      " 0   time             10300 non-null  object \n",
      " 1   latitude         10300 non-null  float64\n",
      " 2   longitude        10300 non-null  float64\n",
      " 3   depth            10300 non-null  float64\n",
      " 4   mag              10300 non-null  float64\n",
      " 5   magType          10300 non-null  object \n",
      " 6   nst              10300 non-null  float64\n",
      " 7   gap              10300 non-null  float64\n",
      " 8   dmin             10300 non-null  float64\n",
      " 9   rms              10300 non-null  float64\n",
      " 10  net              10300 non-null  object \n",
      " 11  id               10300 non-null  object \n",
      " 12  updated          10300 non-null  object \n",
      " 13  place            10300 non-null  object \n",
      " 14  type             10300 non-null  object \n",
      " 15  horizontalError  10300 non-null  float64\n",
      " 16  depthError       10300 non-null  float64\n",
      " 17  magError         10300 non-null  float64\n",
      " 18  magNst           10300 non-null  float64\n",
      " 19  status           10300 non-null  object \n",
      " 20  locationSource   10300 non-null  object \n",
      " 21  magSource        10300 non-null  object \n",
      " 22  timestamp        10300 non-null  float64\n",
      "dtypes: float64(13), object(10)\n",
      "memory usage: 1.8+ MB\n"
     ]
    }
   ],
   "source": [
    "data.info()"
   ]
  },
  {
   "cell_type": "markdown",
   "id": "9215b584",
   "metadata": {
    "papermill": {
     "duration": 0.057319,
     "end_time": "2022-02-11T19:24:02.137574",
     "exception": false,
     "start_time": "2022-02-11T19:24:02.080255",
     "status": "completed"
    },
    "tags": []
   },
   "source": [
    "1. First we will drop columns that have dtype object. This includes time, magType, net, id, updated, place, type, status, magSource, locationSource.\n",
    "2. Next, as observed in the heatmap, we can drop the columns that have low correlation. This includes magError, depthError, gap, nst, magnst, timestamp.\n",
    "3. Moreover, after researching, we found out that horizontalError, rms, dmin is also not required for our model.\n",
    "\n",
    "Hence in the end we are only left with longitude and latitude as our independent variables and depth and mag as dependent variables."
   ]
  },
  {
   "cell_type": "code",
   "execution_count": 18,
   "id": "bc01a472",
   "metadata": {
    "execution": {
     "iopub.execute_input": "2022-02-11T19:24:02.256256Z",
     "iopub.status.busy": "2022-02-11T19:24:02.255576Z",
     "iopub.status.idle": "2022-02-11T19:24:02.270452Z",
     "shell.execute_reply": "2022-02-11T19:24:02.271079Z",
     "shell.execute_reply.started": "2022-02-11T18:21:07.899070Z"
    },
    "papermill": {
     "duration": 0.076353,
     "end_time": "2022-02-11T19:24:02.271278",
     "exception": false,
     "start_time": "2022-02-11T19:24:02.194925",
     "status": "completed"
    },
    "tags": []
   },
   "outputs": [
    {
     "data": {
      "text/html": [
       "<div>\n",
       "<style scoped>\n",
       "    .dataframe tbody tr th:only-of-type {\n",
       "        vertical-align: middle;\n",
       "    }\n",
       "\n",
       "    .dataframe tbody tr th {\n",
       "        vertical-align: top;\n",
       "    }\n",
       "\n",
       "    .dataframe thead th {\n",
       "        text-align: right;\n",
       "    }\n",
       "</style>\n",
       "<table border=\"1\" class=\"dataframe\">\n",
       "  <thead>\n",
       "    <tr style=\"text-align: right;\">\n",
       "      <th></th>\n",
       "      <th>time</th>\n",
       "      <th>latitude</th>\n",
       "      <th>longitude</th>\n",
       "      <th>depth</th>\n",
       "      <th>mag</th>\n",
       "    </tr>\n",
       "  </thead>\n",
       "  <tbody>\n",
       "    <tr>\n",
       "      <th>0</th>\n",
       "      <td>2022-02-04T02:52:38.150Z</td>\n",
       "      <td>38.832832</td>\n",
       "      <td>-122.819336</td>\n",
       "      <td>1.800000</td>\n",
       "      <td>0.85</td>\n",
       "    </tr>\n",
       "    <tr>\n",
       "      <th>1</th>\n",
       "      <td>2022-02-04T02:50:47.970Z</td>\n",
       "      <td>32.718167</td>\n",
       "      <td>-117.160167</td>\n",
       "      <td>16.360000</td>\n",
       "      <td>0.99</td>\n",
       "    </tr>\n",
       "    <tr>\n",
       "      <th>2</th>\n",
       "      <td>2022-02-04T02:44:23.729Z</td>\n",
       "      <td>36.905100</td>\n",
       "      <td>-117.367100</td>\n",
       "      <td>9.400000</td>\n",
       "      <td>1.50</td>\n",
       "    </tr>\n",
       "    <tr>\n",
       "      <th>3</th>\n",
       "      <td>2022-02-04T02:32:05.480Z</td>\n",
       "      <td>19.483167</td>\n",
       "      <td>-155.644667</td>\n",
       "      <td>2.910000</td>\n",
       "      <td>0.81</td>\n",
       "    </tr>\n",
       "    <tr>\n",
       "      <th>4</th>\n",
       "      <td>2022-02-04T02:22:41.920Z</td>\n",
       "      <td>19.198999</td>\n",
       "      <td>-155.436661</td>\n",
       "      <td>34.470001</td>\n",
       "      <td>2.00</td>\n",
       "    </tr>\n",
       "  </tbody>\n",
       "</table>\n",
       "</div>"
      ],
      "text/plain": [
       "                       time   latitude   longitude      depth   mag\n",
       "0  2022-02-04T02:52:38.150Z  38.832832 -122.819336   1.800000  0.85\n",
       "1  2022-02-04T02:50:47.970Z  32.718167 -117.160167  16.360000  0.99\n",
       "2  2022-02-04T02:44:23.729Z  36.905100 -117.367100   9.400000  1.50\n",
       "3  2022-02-04T02:32:05.480Z  19.483167 -155.644667   2.910000  0.81\n",
       "4  2022-02-04T02:22:41.920Z  19.198999 -155.436661  34.470001  2.00"
      ]
     },
     "execution_count": 18,
     "metadata": {},
     "output_type": "execute_result"
    }
   ],
   "source": [
    "data = data[[ 'time', 'latitude', 'longitude', 'depth', 'mag']]\n",
    "data.head()"
   ]
  },
  {
   "cell_type": "code",
   "execution_count": 19,
   "id": "ec82b5e7",
   "metadata": {
    "execution": {
     "iopub.execute_input": "2022-02-11T19:24:02.388913Z",
     "iopub.status.busy": "2022-02-11T19:24:02.388211Z",
     "iopub.status.idle": "2022-02-11T19:24:02.576235Z",
     "shell.execute_reply": "2022-02-11T19:24:02.575560Z",
     "shell.execute_reply.started": "2022-02-11T18:21:07.918185Z"
    },
    "papermill": {
     "duration": 0.248261,
     "end_time": "2022-02-11T19:24:02.576386",
     "exception": false,
     "start_time": "2022-02-11T19:24:02.328125",
     "status": "completed"
    },
    "tags": []
   },
   "outputs": [],
   "source": [
    "import datetime\n",
    "\n",
    "timestamp_arr = []\n",
    "for d in data[\"time\"]:\n",
    "    date_format = datetime.datetime.strptime(d,\"%Y-%m-%dT%H:%M:%S.%fZ\")\n",
    "    timestamp_arr.append(datetime.datetime.timestamp(date_format))\n"
   ]
  },
  {
   "cell_type": "code",
   "execution_count": 20,
   "id": "f9256c79",
   "metadata": {
    "execution": {
     "iopub.execute_input": "2022-02-11T19:24:02.702019Z",
     "iopub.status.busy": "2022-02-11T19:24:02.701311Z",
     "iopub.status.idle": "2022-02-11T19:24:02.705144Z",
     "shell.execute_reply": "2022-02-11T19:24:02.705732Z",
     "shell.execute_reply.started": "2022-02-11T18:21:08.110975Z"
    },
    "papermill": {
     "duration": 0.071819,
     "end_time": "2022-02-11T19:24:02.705922",
     "exception": false,
     "start_time": "2022-02-11T19:24:02.634103",
     "status": "completed"
    },
    "tags": []
   },
   "outputs": [
    {
     "data": {
      "text/plain": [
       "0    1.643943e+09\n",
       "1    1.643943e+09\n",
       "2    1.643943e+09\n",
       "3    1.643942e+09\n",
       "4    1.643941e+09\n",
       "Name: timestamp, dtype: float64"
      ]
     },
     "execution_count": 20,
     "metadata": {},
     "output_type": "execute_result"
    }
   ],
   "source": [
    "timestamp = pd.Series(timestamp_arr)\n",
    "data['timestamp'] = timestamp.values\n",
    "data[\"timestamp\"].head()"
   ]
  },
  {
   "cell_type": "code",
   "execution_count": 21,
   "id": "600d15db",
   "metadata": {
    "execution": {
     "iopub.execute_input": "2022-02-11T19:24:02.829155Z",
     "iopub.status.busy": "2022-02-11T19:24:02.827752Z",
     "iopub.status.idle": "2022-02-11T19:24:02.835280Z",
     "shell.execute_reply": "2022-02-11T19:24:02.835810Z",
     "shell.execute_reply.started": "2022-02-11T18:21:08.124706Z"
    },
    "papermill": {
     "duration": 0.072328,
     "end_time": "2022-02-11T19:24:02.835986",
     "exception": false,
     "start_time": "2022-02-11T19:24:02.763658",
     "status": "completed"
    },
    "tags": []
   },
   "outputs": [
    {
     "data": {
      "text/plain": [
       "time         0\n",
       "latitude     0\n",
       "longitude    0\n",
       "depth        0\n",
       "mag          0\n",
       "timestamp    0\n",
       "dtype: int64"
      ]
     },
     "execution_count": 21,
     "metadata": {},
     "output_type": "execute_result"
    }
   ],
   "source": [
    "data.isnull().sum()"
   ]
  },
  {
   "cell_type": "code",
   "execution_count": 22,
   "id": "bf1afee1",
   "metadata": {
    "execution": {
     "iopub.execute_input": "2022-02-11T19:24:02.956913Z",
     "iopub.status.busy": "2022-02-11T19:24:02.954451Z",
     "iopub.status.idle": "2022-02-11T19:24:02.969464Z",
     "shell.execute_reply": "2022-02-11T19:24:02.968809Z",
     "shell.execute_reply.started": "2022-02-11T18:21:08.141402Z"
    },
    "papermill": {
     "duration": 0.075927,
     "end_time": "2022-02-11T19:24:02.969615",
     "exception": false,
     "start_time": "2022-02-11T19:24:02.893688",
     "status": "completed"
    },
    "tags": []
   },
   "outputs": [
    {
     "data": {
      "text/html": [
       "<div>\n",
       "<style scoped>\n",
       "    .dataframe tbody tr th:only-of-type {\n",
       "        vertical-align: middle;\n",
       "    }\n",
       "\n",
       "    .dataframe tbody tr th {\n",
       "        vertical-align: top;\n",
       "    }\n",
       "\n",
       "    .dataframe thead th {\n",
       "        text-align: right;\n",
       "    }\n",
       "</style>\n",
       "<table border=\"1\" class=\"dataframe\">\n",
       "  <thead>\n",
       "    <tr style=\"text-align: right;\">\n",
       "      <th></th>\n",
       "      <th>latitude</th>\n",
       "      <th>longitude</th>\n",
       "      <th>depth</th>\n",
       "      <th>mag</th>\n",
       "      <th>timestamp</th>\n",
       "    </tr>\n",
       "  </thead>\n",
       "  <tbody>\n",
       "    <tr>\n",
       "      <th>0</th>\n",
       "      <td>38.832832</td>\n",
       "      <td>-122.819336</td>\n",
       "      <td>1.800000</td>\n",
       "      <td>0.85</td>\n",
       "      <td>1.643943e+09</td>\n",
       "    </tr>\n",
       "    <tr>\n",
       "      <th>1</th>\n",
       "      <td>32.718167</td>\n",
       "      <td>-117.160167</td>\n",
       "      <td>16.360000</td>\n",
       "      <td>0.99</td>\n",
       "      <td>1.643943e+09</td>\n",
       "    </tr>\n",
       "    <tr>\n",
       "      <th>2</th>\n",
       "      <td>36.905100</td>\n",
       "      <td>-117.367100</td>\n",
       "      <td>9.400000</td>\n",
       "      <td>1.50</td>\n",
       "      <td>1.643943e+09</td>\n",
       "    </tr>\n",
       "    <tr>\n",
       "      <th>3</th>\n",
       "      <td>19.483167</td>\n",
       "      <td>-155.644667</td>\n",
       "      <td>2.910000</td>\n",
       "      <td>0.81</td>\n",
       "      <td>1.643942e+09</td>\n",
       "    </tr>\n",
       "    <tr>\n",
       "      <th>4</th>\n",
       "      <td>19.198999</td>\n",
       "      <td>-155.436661</td>\n",
       "      <td>34.470001</td>\n",
       "      <td>2.00</td>\n",
       "      <td>1.643941e+09</td>\n",
       "    </tr>\n",
       "  </tbody>\n",
       "</table>\n",
       "</div>"
      ],
      "text/plain": [
       "    latitude   longitude      depth   mag     timestamp\n",
       "0  38.832832 -122.819336   1.800000  0.85  1.643943e+09\n",
       "1  32.718167 -117.160167  16.360000  0.99  1.643943e+09\n",
       "2  36.905100 -117.367100   9.400000  1.50  1.643943e+09\n",
       "3  19.483167 -155.644667   2.910000  0.81  1.643942e+09\n",
       "4  19.198999 -155.436661  34.470001  2.00  1.643941e+09"
      ]
     },
     "execution_count": 22,
     "metadata": {},
     "output_type": "execute_result"
    }
   ],
   "source": [
    "final_data = data.drop(['time'], axis=1)\n",
    "final_data.head()"
   ]
  },
  {
   "cell_type": "code",
   "execution_count": 23,
   "id": "0ebe6882",
   "metadata": {
    "execution": {
     "iopub.execute_input": "2022-02-11T19:24:03.097224Z",
     "iopub.status.busy": "2022-02-11T19:24:03.096490Z",
     "iopub.status.idle": "2022-02-11T19:24:03.099158Z",
     "shell.execute_reply": "2022-02-11T19:24:03.099661Z",
     "shell.execute_reply.started": "2022-02-11T18:33:22.480734Z"
    },
    "papermill": {
     "duration": 0.06916,
     "end_time": "2022-02-11T19:24:03.099846",
     "exception": false,
     "start_time": "2022-02-11T19:24:03.030686",
     "status": "completed"
    },
    "tags": []
   },
   "outputs": [],
   "source": [
    "X = final_data[['latitude', 'longitude']]\n",
    "y = final_data[['mag', 'depth']]"
   ]
  },
  {
   "cell_type": "code",
   "execution_count": 24,
   "id": "549049bb",
   "metadata": {
    "execution": {
     "iopub.execute_input": "2022-02-11T19:24:03.222317Z",
     "iopub.status.busy": "2022-02-11T19:24:03.221618Z",
     "iopub.status.idle": "2022-02-11T19:24:03.225469Z",
     "shell.execute_reply": "2022-02-11T19:24:03.225951Z",
     "shell.execute_reply.started": "2022-02-11T18:21:08.173468Z"
    },
    "papermill": {
     "duration": 0.067736,
     "end_time": "2022-02-11T19:24:03.226144",
     "exception": false,
     "start_time": "2022-02-11T19:24:03.158408",
     "status": "completed"
    },
    "tags": []
   },
   "outputs": [
    {
     "name": "stdout",
     "output_type": "stream",
     "text": [
      "(10300, 2) (10300, 2)\n"
     ]
    }
   ],
   "source": [
    "print(X.shape, y.shape)"
   ]
  },
  {
   "cell_type": "code",
   "execution_count": 25,
   "id": "267d84fc",
   "metadata": {
    "execution": {
     "iopub.execute_input": "2022-02-11T19:24:03.353668Z",
     "iopub.status.busy": "2022-02-11T19:24:03.352707Z",
     "iopub.status.idle": "2022-02-11T19:24:03.542013Z",
     "shell.execute_reply": "2022-02-11T19:24:03.541436Z",
     "shell.execute_reply.started": "2022-02-11T18:21:08.186942Z"
    },
    "papermill": {
     "duration": 0.254002,
     "end_time": "2022-02-11T19:24:03.542155",
     "exception": false,
     "start_time": "2022-02-11T19:24:03.288153",
     "status": "completed"
    },
    "tags": []
   },
   "outputs": [
    {
     "name": "stdout",
     "output_type": "stream",
     "text": [
      "(6901, 2) (3399, 2) (6901, 2) (3399, 2)\n"
     ]
    }
   ],
   "source": [
    "from sklearn.model_selection import train_test_split\n",
    "\n",
    "X_train, X_test, y_train, y_test = train_test_split(X, y, test_size=0.33, random_state=420)\n",
    "print(X_train.shape, X_test.shape, y_train.shape, X_test.shape)\n"
   ]
  },
  {
   "cell_type": "code",
   "execution_count": 26,
   "id": "5adde193",
   "metadata": {
    "execution": {
     "iopub.execute_input": "2022-02-11T19:24:03.669677Z",
     "iopub.status.busy": "2022-02-11T19:24:03.668876Z",
     "iopub.status.idle": "2022-02-11T19:24:03.786650Z",
     "shell.execute_reply": "2022-02-11T19:24:03.785901Z",
     "shell.execute_reply.started": "2022-02-11T18:21:08.202383Z"
    },
    "papermill": {
     "duration": 0.184138,
     "end_time": "2022-02-11T19:24:03.786810",
     "exception": false,
     "start_time": "2022-02-11T19:24:03.602672",
     "status": "completed"
    },
    "tags": []
   },
   "outputs": [
    {
     "data": {
      "text/plain": [
       "0.19583888734116028"
      ]
     },
     "execution_count": 26,
     "metadata": {},
     "output_type": "execute_result"
    }
   ],
   "source": [
    "from sklearn.linear_model import LinearRegression\n",
    "\n",
    "reg1 = LinearRegression()\n",
    "reg1.fit(X_train, y_train)\n",
    "\n",
    "reg1.score(X_test, y_test)\n"
   ]
  },
  {
   "cell_type": "code",
   "execution_count": 27,
   "id": "67977cb9",
   "metadata": {
    "execution": {
     "iopub.execute_input": "2022-02-11T19:24:03.914478Z",
     "iopub.status.busy": "2022-02-11T19:24:03.910572Z",
     "iopub.status.idle": "2022-02-11T19:24:03.927489Z",
     "shell.execute_reply": "2022-02-11T19:24:03.928145Z",
     "shell.execute_reply.started": "2022-02-11T18:22:24.262915Z"
    },
    "papermill": {
     "duration": 0.080915,
     "end_time": "2022-02-11T19:24:03.928345",
     "exception": false,
     "start_time": "2022-02-11T19:24:03.847430",
     "status": "completed"
    },
    "tags": []
   },
   "outputs": [
    {
     "data": {
      "text/plain": [
       "0.19583888788502085"
      ]
     },
     "execution_count": 27,
     "metadata": {},
     "output_type": "execute_result"
    }
   ],
   "source": [
    "from sklearn.linear_model import Ridge\n",
    "\n",
    "reg2 = Ridge()\n",
    "reg2.fit(X_train, y_train)\n",
    "\n",
    "reg2.score(X_test, y_test)"
   ]
  },
  {
   "cell_type": "code",
   "execution_count": 28,
   "id": "1c75487e",
   "metadata": {
    "execution": {
     "iopub.execute_input": "2022-02-11T19:24:04.052868Z",
     "iopub.status.busy": "2022-02-11T19:24:04.052172Z",
     "iopub.status.idle": "2022-02-11T19:24:04.073233Z",
     "shell.execute_reply": "2022-02-11T19:24:04.074341Z",
     "shell.execute_reply.started": "2022-02-11T18:23:17.725489Z"
    },
    "papermill": {
     "duration": 0.086029,
     "end_time": "2022-02-11T19:24:04.074666",
     "exception": false,
     "start_time": "2022-02-11T19:24:03.988637",
     "status": "completed"
    },
    "tags": []
   },
   "outputs": [
    {
     "data": {
      "text/plain": [
       "0.19533877924755705"
      ]
     },
     "execution_count": 28,
     "metadata": {},
     "output_type": "execute_result"
    }
   ],
   "source": [
    "from sklearn.linear_model import Lasso\n",
    "\n",
    "reg3 = Lasso()\n",
    "reg3.fit(X_train, y_train)\n",
    "\n",
    "reg3.score(X_test, y_test)"
   ]
  },
  {
   "cell_type": "code",
   "execution_count": 29,
   "id": "9fa9919d",
   "metadata": {
    "execution": {
     "iopub.execute_input": "2022-02-11T19:24:04.258871Z",
     "iopub.status.busy": "2022-02-11T19:24:04.258087Z",
     "iopub.status.idle": "2022-02-11T19:24:04.278550Z",
     "shell.execute_reply": "2022-02-11T19:24:04.279180Z",
     "shell.execute_reply.started": "2022-02-11T18:27:15.629245Z"
    },
    "papermill": {
     "duration": 0.091236,
     "end_time": "2022-02-11T19:24:04.279391",
     "exception": false,
     "start_time": "2022-02-11T19:24:04.188155",
     "status": "completed"
    },
    "tags": []
   },
   "outputs": [
    {
     "data": {
      "text/plain": [
       "0.42893932594898043"
      ]
     },
     "execution_count": 29,
     "metadata": {},
     "output_type": "execute_result"
    }
   ],
   "source": [
    "from sklearn.preprocessing import PolynomialFeatures\n",
    "from sklearn.pipeline import make_pipeline\n",
    "from sklearn.linear_model import LinearRegression\n",
    "\n",
    "polyreg=make_pipeline(PolynomialFeatures(3),LinearRegression())\n",
    "polyreg.fit(X_train,y_train)\n",
    "\n",
    "polyreg.score(X_test, y_test)\n"
   ]
  },
  {
   "cell_type": "code",
   "execution_count": 30,
   "id": "f5c88e79",
   "metadata": {
    "execution": {
     "iopub.execute_input": "2022-02-11T19:24:04.408226Z",
     "iopub.status.busy": "2022-02-11T19:24:04.407515Z",
     "iopub.status.idle": "2022-02-11T19:24:04.545384Z",
     "shell.execute_reply": "2022-02-11T19:24:04.544699Z",
     "shell.execute_reply.started": "2022-02-11T18:33:25.385880Z"
    },
    "papermill": {
     "duration": 0.204629,
     "end_time": "2022-02-11T19:24:04.545552",
     "exception": false,
     "start_time": "2022-02-11T19:24:04.340923",
     "status": "completed"
    },
    "tags": []
   },
   "outputs": [
    {
     "data": {
      "text/plain": [
       "0.6541532237505099"
      ]
     },
     "execution_count": 30,
     "metadata": {},
     "output_type": "execute_result"
    }
   ],
   "source": [
    "from sklearn.tree import DecisionTreeRegressor\n",
    "\n",
    "dtreg = DecisionTreeRegressor(random_state = 420)\n",
    "dtreg.fit(X_train, y_train)\n",
    "\n",
    "dtreg.score(X_test, y_test)"
   ]
  },
  {
   "cell_type": "code",
   "execution_count": 31,
   "id": "b260ea4b",
   "metadata": {
    "execution": {
     "iopub.execute_input": "2022-02-11T19:24:04.676982Z",
     "iopub.status.busy": "2022-02-11T19:24:04.676276Z",
     "iopub.status.idle": "2022-02-11T19:24:06.790272Z",
     "shell.execute_reply": "2022-02-11T19:24:06.789682Z",
     "shell.execute_reply.started": "2022-02-11T18:36:56.499666Z"
    },
    "papermill": {
     "duration": 2.18236,
     "end_time": "2022-02-11T19:24:06.790428",
     "exception": false,
     "start_time": "2022-02-11T19:24:04.608068",
     "status": "completed"
    },
    "tags": []
   },
   "outputs": [
    {
     "data": {
      "text/plain": [
       "0.8062971333229174"
      ]
     },
     "execution_count": 31,
     "metadata": {},
     "output_type": "execute_result"
    }
   ],
   "source": [
    "from sklearn.ensemble import RandomForestRegressor\n",
    "\n",
    "rfreg = RandomForestRegressor(random_state = 420)\n",
    "rfreg.fit(X_train, y_train)\n",
    "\n",
    "rfreg.score(X_test, y_test)"
   ]
  },
  {
   "cell_type": "code",
   "execution_count": 32,
   "id": "f7d82d5d",
   "metadata": {
    "execution": {
     "iopub.execute_input": "2022-02-11T19:24:06.918300Z",
     "iopub.status.busy": "2022-02-11T19:24:06.917582Z",
     "iopub.status.idle": "2022-02-11T19:24:06.943687Z",
     "shell.execute_reply": "2022-02-11T19:24:06.944223Z",
     "shell.execute_reply.started": "2022-02-11T19:03:07.229321Z"
    },
    "papermill": {
     "duration": 0.090404,
     "end_time": "2022-02-11T19:24:06.944413",
     "exception": false,
     "start_time": "2022-02-11T19:24:06.854009",
     "status": "completed"
    },
    "tags": []
   },
   "outputs": [
    {
     "data": {
      "text/plain": [
       "0.7709321987694373"
      ]
     },
     "execution_count": 32,
     "metadata": {},
     "output_type": "execute_result"
    }
   ],
   "source": [
    "from sklearn.neighbors import KNeighborsRegressor\n",
    "\n",
    "knnreg = KNeighborsRegressor()\n",
    "knnreg.fit(X_train, y_train)\n",
    "\n",
    "knnreg.score(X_test, y_test)"
   ]
  },
  {
   "cell_type": "code",
   "execution_count": null,
   "id": "f1a60fc5",
   "metadata": {
    "papermill": {
     "duration": 0.062623,
     "end_time": "2022-02-11T19:24:07.068983",
     "exception": false,
     "start_time": "2022-02-11T19:24:07.006360",
     "status": "completed"
    },
    "tags": []
   },
   "outputs": [],
   "source": []
  }
 ],
 "metadata": {
  "kernelspec": {
   "display_name": "Python 3",
   "language": "python",
   "name": "python3"
  },
  "language_info": {
   "codemirror_mode": {
    "name": "ipython",
    "version": 3
   },
   "file_extension": ".py",
   "mimetype": "text/x-python",
   "name": "python",
   "nbconvert_exporter": "python",
   "pygments_lexer": "ipython3",
   "version": "3.7.12"
  },
  "papermill": {
   "default_parameters": {},
   "duration": 22.43362,
   "end_time": "2022-02-11T19:24:07.944024",
   "environment_variables": {},
   "exception": null,
   "input_path": "__notebook__.ipynb",
   "output_path": "__notebook__.ipynb",
   "parameters": {},
   "start_time": "2022-02-11T19:23:45.510404",
   "version": "2.3.3"
  }
 },
 "nbformat": 4,
 "nbformat_minor": 5
}
